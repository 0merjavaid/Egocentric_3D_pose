{
 "cells": [
  {
   "cell_type": "code",
   "execution_count": null,
   "id": "558835f3",
   "metadata": {},
   "outputs": [],
   "source": [
    "%matplotlib notebook \n",
    "from model.resattnet import SelfPose\n",
    "from torch.utils.data import DataLoader\n",
    "import time\n",
    "import copy\n",
    "import torch\n",
    "import numpy as np\n",
    "import matplotlib.pyplot as plt\n",
    "import glob\n",
    "from mpl_toolkits.mplot3d import axes3d \n",
    "import typing as tp\n",
    "import numpy as np\n",
    "import matplotlib.pyplot as plt\n",
    "from dataloader_real import DomeMaster\n"
   ]
  },
  {
   "cell_type": "code",
   "execution_count": null,
   "id": "5547979b",
   "metadata": {},
   "outputs": [],
   "source": [
    "test_loader = DomeMaster(\"../Datasets/domemaster/theta_chest_domemaster/\")\n",
    "test_loader = DataLoader(test_loader, num_workers=1, batch_size=1)\n",
    "self_pose = SelfPose()\n",
    "device = torch.device(\"cuda:0\" if torch.cuda.is_available() else \"cpu\") \n",
    "# self_pose.load_state_dict(torch.load(\"./ckpts/vae_no_kld/10_epoch_1.6332732890902123e-05.pth\"))\n",
    "self_pose.to(device)\n",
    "print()"
   ]
  },
  {
   "cell_type": "code",
   "execution_count": null,
   "id": "24850b15",
   "metadata": {},
   "outputs": [],
   "source": []
  },
  {
   "cell_type": "code",
   "execution_count": null,
   "id": "ddd90e20",
   "metadata": {},
   "outputs": [],
   "source": [
    "\n",
    "def get_chain_dots(\n",
    "        joints: np.ndarray,   # shape == (n_dots, 3)\n",
    "        chain_dots_indexes: tp.List[int], # length == n_dots_in_chain\n",
    "                                          # in continuous order, i.e. \n",
    "                                          # left_hand_ix >>> chest_ix >>> right_hand_ix\n",
    "        ) -> np.ndarray:    # chain of dots\n",
    "    print(joints.shape)\n",
    "    return joints[chain_dots_indexes]\n",
    "\n",
    "\n",
    "def get_chains(\n",
    "        joints,   # shape == (n_dots, 3)\n",
    "        head: tp.List[int], # pelvis >>> chest >>> head\n",
    "        spine: tp.List[int], # left_leg >>> pelvis >>> right_leg\n",
    "        arm1: tp.List[int],\n",
    "        arm2,\n",
    "        neck,\n",
    "        right_leg,\n",
    "        left_leg,\n",
    "        ):\n",
    "    return (get_chain_dots(joints, head),\n",
    "            get_chain_dots(joints, spine),\n",
    "            get_chain_dots(joints, arm1),\n",
    "            get_chain_dots(joints, arm2),\n",
    "            get_chain_dots(joints, neck),\n",
    "            get_chain_dots(joints, right_leg),\n",
    "            get_chain_dots(joints, left_leg),\n",
    "            )\n",
    "\n",
    "\n",
    "def subplot_nodes(dots: np.ndarray, # shape == (n_dots, 3)\n",
    "                  ax):\n",
    "    return ax.scatter3D(*dots.T, c=dots[:, -1], s=20)\n",
    "\n",
    "\n",
    "def subplot_bones(chains: tp.Tuple[np.ndarray, ...], ax):\n",
    "    return [ax.plot(*chain.T) for chain in chains]\n",
    "\n",
    "\n",
    "def plot_skeletons(skeletons, chains_ixs):\n",
    "    joints = skeletons[0]\n",
    "    fig = plt.figure(figsize=(10, 5))\n",
    "    chains = get_chains(joints, *chains_ixs)\n",
    "    ax = fig.add_subplot(1, 1, 1, projection='3d')\n",
    "    subplot_nodes(joints, ax)\n",
    "    subplot_bones(chains, ax)\n",
    "    plt.show()\n",
    "    \n",
    "def plot(pred_pose):\n",
    "    # Kinematic Tree for visualization\n",
    "    # each list create bones between joints\n",
    "    pred = np.array(\n",
    "    [[  0,           0,           0        ],\n",
    "     [  4.22492806, -22.67886381,  50.55490345],\n",
    "     [  2.8284324,  -22.74109124,  38.9576961 ],\n",
    "     [  1.14356441, -22.34996218,  25.72032099],\n",
    "     [-14.35919458, -16.56799695,  20.91153744],\n",
    "     [-15.43520405, -24.19927021,  40.86328072],\n",
    "     [-15.73011997, -26.19144252,  65.89507353],\n",
    "     [ 15.4553649,  -24.21402085,  17.68834905],\n",
    "     [ 18.53139455, -29.87654767,  38.08859206],\n",
    "     [ 25.34144849, -29.78593198,  62.24731525],\n",
    "     [ -0.751921,   -21.90995527,  10.82824809],\n",
    "     [ -1.87156293, -20.19901538,  66.8921517 ],\n",
    "     [  0.60275076, -18.47801771, 106.73545244],\n",
    "     [  3.14211695, -32.39483848, 139.29781386],\n",
    "     [ 13.83222249, -24.57550126,  65.14085695],\n",
    "     [ 19.37489383, -25.83197523, 104.73484489],\n",
    "     [ 18.21862104, -36.73699566, 138.4111168 ],])\n",
    "    pred[4:10] = pred_pose\n",
    "    chains_ixs = ([0],[1, 2, 3],[3, 4, 5, 6],[3, 7, 8, 9],[3, 10],[1, 11,12,13],[1, 14,15,16]) \n",
    "    plot_skeletons([pred], chains_ixs)\n",
    " "
   ]
  },
  {
   "cell_type": "code",
   "execution_count": null,
   "id": "67ab8758",
   "metadata": {
    "scrolled": false
   },
   "outputs": [],
   "source": [
    "for i, (img, _, _) in enumerate(test_loader):\n",
    "    if i != 21:\n",
    "        continue\n",
    "    \n",
    "    img1 = np.transpose(img.detach().numpy().reshape(3,368, 368), [1,2,0])\n",
    "    plt.imshow(img1)\n",
    "    plt.show()\n",
    "    img = img.cuda()\n",
    "    output, _, _, _, _ = self_pose(img)\n",
    "    output = (output[-1].reshape(6,3) * 300).cpu().detach().numpy()\n",
    "    plot(output)\n",
    "    print(output)\n",
    "    0/0"
   ]
  },
  {
   "cell_type": "code",
   "execution_count": null,
   "id": "6f5a6708",
   "metadata": {},
   "outputs": [],
   "source": [
    "from pytorchcv.model_provider import get_model as p\n",
    "model = p(\"resattnet56\", pretrained=False)\n",
    "import torch.nn as nn\n",
    "state = torch.hub.load_state_dict_from_url(\"https://github.com/phamquiluan/ResidualAttentionNetwork/releases/download/v0.1.0/resattnet56.pth\")\n",
    "# mo\n",
    "\n",
    "model.load_state_dict(state[\"state_dict\"])"
   ]
  },
  {
   "cell_type": "markdown",
   "id": "39ab11f8",
   "metadata": {},
   "source": [
    "model"
   ]
  },
  {
   "cell_type": "code",
   "execution_count": null,
   "id": "768c92a3",
   "metadata": {},
   "outputs": [],
   "source": [
    "model1 = nn.Sequential(*list(model.features.children())[:-1])"
   ]
  },
  {
   "cell_type": "code",
   "execution_count": null,
   "id": "431b8131",
   "metadata": {},
   "outputs": [],
   "source": [
    "for name, param in model.named_parameters():\n",
    "    print(name, param)\n",
    "    break\n",
    "    "
   ]
  },
  {
   "cell_type": "markdown",
   "id": "cc7ab928",
   "metadata": {},
   "source": []
  },
  {
   "cell_type": "code",
   "execution_count": null,
   "id": "21903ecf",
   "metadata": {},
   "outputs": [],
   "source": [
    "state = torch.hub.load_state_dict_from_url(\"https://github.com/phamquiluan/ResidualAttentionNetwork/releases/download/v0.1.0/resattnet56.pth\")\n",
    "# mo\n",
    "\n",
    "model1.load_state_dict(state[\"state_dict\"])\n"
   ]
  },
  {
   "cell_type": "code",
   "execution_count": null,
   "id": "b1eb8d58",
   "metadata": {},
   "outputs": [],
   "source": [
    "list(model1.named_children())"
   ]
  },
  {
   "cell_type": "code",
   "execution_count": null,
   "id": "18cc931b",
   "metadata": {},
   "outputs": [],
   "source": [
    "list(model.named_children())"
   ]
  },
  {
   "cell_type": "code",
   "execution_count": null,
   "id": "bedcfba5",
   "metadata": {},
   "outputs": [],
   "source": []
  }
 ],
 "metadata": {
  "kernelspec": {
   "display_name": "Python 3 (ipykernel)",
   "language": "python",
   "name": "python3"
  },
  "language_info": {
   "codemirror_mode": {
    "name": "ipython",
    "version": 3
   },
   "file_extension": ".py",
   "mimetype": "text/x-python",
   "name": "python",
   "nbconvert_exporter": "python",
   "pygments_lexer": "ipython3",
   "version": "3.8.13"
  }
 },
 "nbformat": 4,
 "nbformat_minor": 5
}
