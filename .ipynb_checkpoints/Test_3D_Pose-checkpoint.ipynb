{
 "cells": [
  {
   "cell_type": "code",
   "execution_count": 1,
   "id": "db6e19bc",
   "metadata": {
    "scrolled": true
   },
   "outputs": [],
   "source": [
    "%matplotlib notebook \n",
    "from model.self_pose import SelfPose\n",
    "from dataloader import XRegoDataset \n",
    "from torch.utils.data import DataLoader\n",
    "import time\n",
    "import copy\n",
    "import torch\n",
    "import numpy as np\n",
    "import matplotlib.pyplot as plt\n",
    "import webdataset as wds\n",
    "from torchvision import transforms\n",
    "import glob\n",
    "from webdataset.handlers import ignore_and_continue\n",
    "from mpl_toolkits.mplot3d import axes3d \n",
    "import typing as tp\n",
    "import numpy as np\n",
    "import matplotlib.pyplot as plt\n"
   ]
  },
  {
   "cell_type": "code",
   "execution_count": 2,
   "id": "62e19072",
   "metadata": {},
   "outputs": [],
   "source": [
    "preproc = transforms.Compose([\n",
    "    transforms.Resize((368,368)),\n",
    "    transforms.ToTensor(),\n",
    "])\n",
    "\n",
    "def transform(x):\n",
    "    x = x.decode(\"utf-8\").split(\",\")\n",
    "    x = np.array(x).astype(float).reshape(-1,3)\n",
    "    x = np.concatenate((x[6:7], x[2:5], x[14:17], x[22:25], x[5:6], x[29:32], x[35:38]))\n",
    "\n",
    "    return x.reshape(-1)\n",
    "\n",
    "def image_preproc(x):\n",
    "    return preproc(x)\n",
    "\n"
   ]
  },
  {
   "cell_type": "markdown",
   "id": "a3fffa7e",
   "metadata": {},
   "source": [
    "## Plot Kinematic Tree"
   ]
  },
  {
   "cell_type": "code",
   "execution_count": 3,
   "id": "0a8f31a0",
   "metadata": {},
   "outputs": [],
   "source": [
    "\n",
    "\n",
    "def get_chain_dots(\n",
    "        joints: np.ndarray,   # shape == (n_dots, 3)\n",
    "        chain_dots_indexes: tp.List[int], # length == n_dots_in_chain\n",
    "                                          # in continuous order, i.e. \n",
    "                                          # left_hand_ix >>> chest_ix >>> right_hand_ix\n",
    "        ) -> np.ndarray:    # chain of dots\n",
    "    return joints[chain_dots_indexes]\n",
    "\n",
    "\n",
    "def get_chains(\n",
    "        joints,   # shape == (n_dots, 3)\n",
    "        head: tp.List[int], # pelvis >>> chest >>> head\n",
    "        spine: tp.List[int], # left_leg >>> pelvis >>> right_leg\n",
    "        arm1: tp.List[int],\n",
    "        arm2,\n",
    "        neck,\n",
    "        right_leg,\n",
    "        left_leg,\n",
    "        ):\n",
    "    return (get_chain_dots(joints, head),\n",
    "            get_chain_dots(joints, spine),\n",
    "            get_chain_dots(joints, arm1),\n",
    "            get_chain_dots(joints, arm2),\n",
    "            get_chain_dots(joints, neck),\n",
    "            get_chain_dots(joints, right_leg),\n",
    "            get_chain_dots(joints, left_leg),\n",
    "            )\n",
    "\n",
    "\n",
    "def subplot_nodes(dots: np.ndarray, # shape == (n_dots, 3)\n",
    "                  ax):\n",
    "    return ax.scatter3D(*dots.T, c=dots[:, -1])\n",
    "\n",
    "\n",
    "def subplot_bones(chains: tp.Tuple[np.ndarray, ...], ax):\n",
    "    return [ax.plot(*chain.T) for chain in chains]\n",
    "\n",
    "\n",
    "def plot_skeletons(skeletons, chains_ixs):\n",
    "    fig = plt.figure(figsize=(10, 5))\n",
    "    for i, joints in enumerate(skeletons, start=1):\n",
    "        chains = get_chains(joints, *chains_ixs)\n",
    "        ax = fig.add_subplot(1, 2, i, projection='3d')\n",
    "        subplot_nodes(joints, ax)\n",
    "        subplot_bones(chains, ax)\n",
    "    plt.show()\n",
    "    \n",
    "def plot(gt_pose, pred_pose):\n",
    "    # Kinematic Tree for visualization\n",
    "    # each list create bones between joints\n",
    "    chains_ixs = ([0],[1, 2, 3],[3, 4, 5, 6],[3, 7, 8, 9],[3, 10],[1, 11,12,13],[1, 14,15,16]) \n",
    "    plot_skeletons([gt_pose, pred_pose], chains_ixs)\n",
    " \n",
    "       \n"
   ]
  },
  {
   "cell_type": "code",
   "execution_count": 6,
   "id": "c01006b3",
   "metadata": {
    "scrolled": false
   },
   "outputs": [],
   "source": [
    "def load_models():\n",
    "    paths = [\"./ckpts/57mm.pth\", \"./ckpts/model2/5_epoch_0.00025778871799314704.pth\",\n",
    "             \"./ckpts/model3/6_epoch_2.2495238057805626e-05.pth\", \"./ckpts/model4/5_epoch_0.0002509588166198228.pth\",\n",
    "             \"./ckpts/model5/6_epoch_0.0002385608078126097.pth\"]\n",
    "    models = []\n",
    "    for path in paths:\n",
    "        models.append(SelfPose())\n",
    "        models[-1].load_state_dict(torch.load(path))\n",
    "        models[-1].cuda()\n",
    "    return models"
   ]
  },
  {
   "cell_type": "code",
   "execution_count": 7,
   "id": "c8f87abd",
   "metadata": {
    "scrolled": false
   },
   "outputs": [
    {
     "name": "stdout",
     "output_type": "stream",
     "text": [
      "26\n",
      "\n"
     ]
    }
   ],
   "source": [
    "train_url = glob.glob(\"/egopose-data/web-datasets/xr*train*tar\")\n",
    "\"/egopose-data/web\"\n",
    "test_url = glob.glob(\"/egopose-data/web-datasets/xr*test*tar\")\n",
    "print(len(test_url))\n",
    "ds = wds.WebDataset(train_url).decode(\"pil\").to_tuple(\"pose_image.png\", \"pose_image_depth.png\", \"pose_3dp.csv\").map_tuple(image_preproc, image_preproc, transform)\n",
    "train_loader = DataLoader(ds.batched(1), num_workers=1, batch_size=None)\n",
    "\n",
    "ds_test = wds.WebDataset(test_url).decode(\"pil\").to_tuple(\"pose_image.png\", \"pose_image_depth.png\",\"pose_3dp.csv\", handler=ignore_and_continue).map_tuple(image_preproc, image_preproc, transform)\n",
    "test_loader = DataLoader(ds_test, num_workers=8, batch_size=64)\n",
    " \n",
    "# self_pose = SelfPose()\n",
    "dataloaders = {\"train\": train_loader, \"val\": test_loader}\n",
    "device = torch.device(\"cuda:0\" if torch.cuda.is_available() else \"cpu\") \n",
    "# self_pose.load_state_dict(torch.load(\"./ckpts/57mm.pth\"))\n",
    "# self_pose.to(device)\n",
    "models = load_models()\n",
    "print()"
   ]
  },
  {
   "cell_type": "code",
   "execution_count": 12,
   "id": "c25a7e21",
   "metadata": {},
   "outputs": [
    {
     "name": "stdout",
     "output_type": "stream",
     "text": [
      "count:  64\n"
     ]
    },
    {
     "ename": "NameError",
     "evalue": "name 'err' is not defined",
     "output_type": "error",
     "traceback": [
      "\u001b[0;31m---------------------------------------------------------------------------\u001b[0m",
      "\u001b[0;31mNameError\u001b[0m                                 Traceback (most recent call last)",
      "\u001b[0;32m/tmp/ipykernel_26749/1996817015.py\u001b[0m in \u001b[0;36m<module>\u001b[0;34m\u001b[0m\n\u001b[1;32m     62\u001b[0m \u001b[0;34m\u001b[0m\u001b[0m\n\u001b[1;32m     63\u001b[0m \u001b[0;31m# mean_error(self_pose)\u001b[0m\u001b[0;34m\u001b[0m\u001b[0;34m\u001b[0m\u001b[0;34m\u001b[0m\u001b[0m\n\u001b[0;32m---> 64\u001b[0;31m \u001b[0moutput_list\u001b[0m \u001b[0;34m=\u001b[0m \u001b[0mprocess_models\u001b[0m\u001b[0;34m(\u001b[0m\u001b[0mmodels\u001b[0m\u001b[0;34m,\u001b[0m \u001b[0;36m5\u001b[0m\u001b[0;34m)\u001b[0m\u001b[0;34m\u001b[0m\u001b[0;34m\u001b[0m\u001b[0m\n\u001b[0m",
      "\u001b[0;32m/tmp/ipykernel_26749/1996817015.py\u001b[0m in \u001b[0;36mprocess_models\u001b[0;34m(models, batches)\u001b[0m\n\u001b[1;32m     55\u001b[0m \u001b[0;32mdef\u001b[0m \u001b[0mprocess_models\u001b[0m\u001b[0;34m(\u001b[0m\u001b[0mmodels\u001b[0m\u001b[0;34m,\u001b[0m \u001b[0mbatches\u001b[0m\u001b[0;34m=\u001b[0m\u001b[0mfloat\u001b[0m\u001b[0;34m(\u001b[0m\u001b[0;34m'inf'\u001b[0m\u001b[0;34m)\u001b[0m\u001b[0;34m)\u001b[0m\u001b[0;34m:\u001b[0m\u001b[0;34m\u001b[0m\u001b[0;34m\u001b[0m\u001b[0m\n\u001b[1;32m     56\u001b[0m     \u001b[0moutput_list\u001b[0m \u001b[0;34m=\u001b[0m \u001b[0;34m[\u001b[0m\u001b[0;34m[\u001b[0m\u001b[0;34m]\u001b[0m\u001b[0;34m*\u001b[0m \u001b[0mlen\u001b[0m\u001b[0;34m(\u001b[0m\u001b[0mmodels\u001b[0m\u001b[0;34m)\u001b[0m\u001b[0;34m]\u001b[0m\u001b[0;34m\u001b[0m\u001b[0;34m\u001b[0m\u001b[0m\n\u001b[0;32m---> 57\u001b[0;31m     \u001b[0;32mfor\u001b[0m \u001b[0moutputs\u001b[0m\u001b[0;34m,\u001b[0m \u001b[0mgt\u001b[0m\u001b[0;34m,\u001b[0m \u001b[0m_\u001b[0m \u001b[0;32min\u001b[0m \u001b[0;34m(\u001b[0m\u001b[0minference\u001b[0m\u001b[0;34m(\u001b[0m\u001b[0mmodels\u001b[0m\u001b[0;34m)\u001b[0m\u001b[0;34m)\u001b[0m\u001b[0;34m:\u001b[0m\u001b[0;34m\u001b[0m\u001b[0;34m\u001b[0m\u001b[0m\n\u001b[0m\u001b[1;32m     58\u001b[0m         \u001b[0;32mfor\u001b[0m \u001b[0mi\u001b[0m\u001b[0;34m,\u001b[0m \u001b[0moutput\u001b[0m \u001b[0;32min\u001b[0m \u001b[0menumerate\u001b[0m\u001b[0;34m(\u001b[0m\u001b[0moutputs\u001b[0m\u001b[0;34m)\u001b[0m\u001b[0;34m:\u001b[0m\u001b[0;34m\u001b[0m\u001b[0;34m\u001b[0m\u001b[0m\n\u001b[1;32m     59\u001b[0m             \u001b[0moutput_list\u001b[0m\u001b[0;34m[\u001b[0m\u001b[0mi\u001b[0m\u001b[0;34m]\u001b[0m\u001b[0;34m.\u001b[0m\u001b[0mextend\u001b[0m\u001b[0;34m(\u001b[0m\u001b[0moutput\u001b[0m\u001b[0;34m)\u001b[0m\u001b[0;34m\u001b[0m\u001b[0;34m\u001b[0m\u001b[0m\n",
      "\u001b[0;32m/tmp/ipykernel_26749/1996817015.py\u001b[0m in \u001b[0;36minference\u001b[0;34m(models)\u001b[0m\n\u001b[1;32m     21\u001b[0m \u001b[0;31m#         err = calculate_error(outputs, labels[:, 4:10]) # 4-10 are both arm joints\u001b[0m\u001b[0;34m\u001b[0m\u001b[0;34m\u001b[0m\u001b[0;34m\u001b[0m\u001b[0m\n\u001b[1;32m     22\u001b[0m         \u001b[0mprint\u001b[0m\u001b[0;34m(\u001b[0m \u001b[0;34m\"count: \"\u001b[0m\u001b[0;34m,\u001b[0m \u001b[0mcount\u001b[0m\u001b[0;34m)\u001b[0m\u001b[0;34m\u001b[0m\u001b[0;34m\u001b[0m\u001b[0m\n\u001b[0;32m---> 23\u001b[0;31m         \u001b[0;32myield\u001b[0m \u001b[0mresults\u001b[0m\u001b[0;34m,\u001b[0m \u001b[0mlabels\u001b[0m\u001b[0;34m,\u001b[0m \u001b[0merr\u001b[0m\u001b[0;34m\u001b[0m\u001b[0;34m\u001b[0m\u001b[0m\n\u001b[0m\u001b[1;32m     24\u001b[0m \u001b[0;31m#     except Exception as e:\u001b[0m\u001b[0;34m\u001b[0m\u001b[0;34m\u001b[0m\u001b[0;34m\u001b[0m\u001b[0m\n\u001b[1;32m     25\u001b[0m \u001b[0;31m#         print(\"\\n\\n\\nException as e:\", e)\u001b[0m\u001b[0;34m\u001b[0m\u001b[0;34m\u001b[0m\u001b[0;34m\u001b[0m\u001b[0m\n",
      "\u001b[0;31mNameError\u001b[0m: name 'err' is not defined"
     ]
    }
   ],
   "source": [
    "def calculate_error(pred, gt):\n",
    "    pred = pred.reshape((-1, 6, 3))\n",
    "    gt = gt.reshape((-1, 6, 3))\n",
    "    error = np.sqrt(np.sum((pred-gt) ** 2, axis=2))\n",
    "    return np.mean(error)\n",
    "\n",
    "def inference(models):\n",
    "    results = []\n",
    "    for model in models:\n",
    "        model.eval()   # Set model to evaluate mode\n",
    "    phase=\"val\"\n",
    "    errors = []\n",
    "    count = 0\n",
    "#     try:\n",
    "    for inputs, depth, labels in dataloaders[\"val\"]: \n",
    "        inputs = inputs.to(device).float()\n",
    "        depth =  depth.to(device).float()\n",
    "        count += inputs.shape[0]\n",
    "        results = infer_multiple(models, inputs)\n",
    "        labels = labels.reshape(-1, 17, 3).cpu().numpy() # 17 joints for visualizatoin\n",
    "#         err = calculate_error(outputs, labels[:, 4:10]) # 4-10 are both arm joints\n",
    "        print( \"count: \", count)\n",
    "        yield results, labels, \"err\"\n",
    "#     except Exception as e:\n",
    "#         print(\"\\n\\n\\nException as e:\", e)\n",
    "#         return\n",
    "            \n",
    "\n",
    "def plot_inference(model, plot_max=5):\n",
    "    for i, (outputs, labels, error) in enumerate(inference(model)):\n",
    "        pred = labels.copy()\n",
    "        pred[:, 4:10] = outputs # replace orignal arm joints with predicted arm joints in kinematic tree\n",
    "        plot(pred[0], labels[0]) #plot first prediction in batch\n",
    "        if i >= plot_max:\n",
    "            break\n",
    "            \n",
    "def mean_error(model, total_batches=float(\"inf\")):\n",
    "    errors = []\n",
    "    for i, (outputs, gt, error) in enumerate(inference(model)):\n",
    "        errors.append(error)\n",
    "        if i >= total_batches:\n",
    "            break\n",
    "            \n",
    "    print(f\"Mean Error of all batches: {np.mean(errors)*10} millimeters \")\n",
    "        \n",
    "def infer_multiple(models: list, inputs):\n",
    "    results = []\n",
    "    with torch.set_grad_enabled(False):\n",
    "        for model in models:\n",
    "            outputs, _, _ = model(inputs)\n",
    "            outputs = outputs.view(-1, 6, 3).cpu().numpy() * 300 # both arms \n",
    "            results.append(outputs)\n",
    "    return results\n",
    "    \n",
    "def process_models(models, batches=float('inf')):\n",
    "    output_list = [[]* len(models)]\n",
    "    for outputs, gt, _ in (inference(models)):\n",
    "        for i, output in enumerate(outputs):\n",
    "            output_list[i].extend(output)\n",
    "    return output_list\n",
    "        \n",
    "\n",
    "# mean_error(self_pose)\n",
    "output_list = process_models(models, 5)"
   ]
  },
  {
   "cell_type": "code",
   "execution_count": null,
   "id": "c7403cb4",
   "metadata": {
    "scrolled": false
   },
   "outputs": [],
   "source": []
  },
  {
   "cell_type": "code",
   "execution_count": null,
   "id": "4af06d27",
   "metadata": {},
   "outputs": [],
   "source": []
  }
 ],
 "metadata": {
  "kernelspec": {
   "display_name": "Python 3 (ipykernel)",
   "language": "python",
   "name": "python3"
  },
  "language_info": {
   "codemirror_mode": {
    "name": "ipython",
    "version": 3
   },
   "file_extension": ".py",
   "mimetype": "text/x-python",
   "name": "python",
   "nbconvert_exporter": "python",
   "pygments_lexer": "ipython3",
   "version": "3.9.5"
  }
 },
 "nbformat": 4,
 "nbformat_minor": 5
}
