{
 "cells": [
  {
   "cell_type": "code",
   "execution_count": 1,
   "id": "2509ee49",
   "metadata": {
    "scrolled": true
   },
   "outputs": [],
   "source": [
    "# %matplotlib notebook\n",
    "from model.self_pose import SelfPose\n",
    "from dataloader import XRegoDataset \n",
    "from torch.utils.data import DataLoader\n",
    "import torch.nn as nn\n",
    "import torch.optim as optim\n",
    "import time\n",
    "import copy\n",
    "import torch\n",
    "import numpy as np\n",
    "import cv2\n",
    "import matplotlib.pyplot as plt\n",
    "import webdataset as wds\n",
    "from torchvision import transforms\n",
    "import glob\n",
    "from webdataset.handlers import ignore_and_continue\n",
    "from PIL import Image\n",
    "import io\n",
    "import imgaug.augmenters as iaa\n",
    "# from mpl_toolkits.mplot3d import axes3d \n"
   ]
  },
  {
   "cell_type": "code",
   "execution_count": 2,
   "id": "5d23af82",
   "metadata": {
    "scrolled": true
   },
   "outputs": [
    {
     "name": "stderr",
     "output_type": "stream",
     "text": [
      "/home/javaid/miniconda3/lib/python3.9/site-packages/imgaug/imgaug.py:184: DeprecationWarning: Function `SimplexNoiseAlpha()` is deprecated. Use `BlendAlphaSimplexNoise` instead. SimplexNoiseAlpha is deprecated. Use BlendAlphaSimplexNoise instead. The order of parameters is the same. Parameter 'first' was renamed to 'foreground'. Parameter 'second' was renamed to 'background'.\n",
      "  warn_deprecated(msg, stacklevel=3)\n"
     ]
    }
   ],
   "source": [
    "seq = iaa.Sequential(\n",
    "    [   \n",
    "        iaa.Resize({\"height\": 368, \"width\": 368}),\n",
    "        iaa.SomeOf((0, 4),\n",
    "            [\n",
    "                iaa.Sometimes(0.34, iaa.OneOf([\n",
    "                    iaa.GaussianBlur((0, 3.0)), # blur images with a sigma between 0 and 3.0\n",
    "                    iaa.AverageBlur(k=(2, 7)), # blur image using local means with kernel sizes between 2 and 7\n",
    "                    iaa.MedianBlur(k=(3, 7)), # blur image using local medians with kernel sizes between 2 and 7\n",
    "                ])),\n",
    "                iaa.Sometimes(0.3, iaa.Sharpen(alpha=(0, 1.0), lightness=(0.75, 1.5))), # sharpen images \n",
    "                # search either for all edges or for directed edges,\n",
    "                # blend the result with the original image using a blobby mask\n",
    "                iaa.Sometimes(0.3, iaa.SimplexNoiseAlpha(iaa.OneOf([\n",
    "                    iaa.EdgeDetect(alpha=(0.5, 1.0)),\n",
    "                    iaa.DirectedEdgeDetect(alpha=(0.5, 1.0), direction=(0.0, 1.0)),\n",
    "                ]))),\n",
    "                iaa.Sometimes(0.3, iaa.AdditiveGaussianNoise(loc=0, scale=(0.0, 0.05*255), per_channel=0.5)), # add gaussian noise to images\n",
    "                iaa.Sometimes(0.45, iaa.OneOf([\n",
    "                    iaa.Dropout((0.01, 0.1), per_channel=0.5), # randomly remove up to 10% of the pixels\n",
    "                    iaa.CoarseDropout((0.03, 0.15), size_percent=(0.02, 0.05), per_channel=0.2),\n",
    "                ])),\n",
    "                iaa.Sometimes(0.55, iaa.Add((-10, 10), per_channel=0.5)), # change brightness of images (by -10 to 10 of original value)\n",
    "                iaa.Sometimes(0.55, iaa.AddToHueAndSaturation((-20, 20))), # change hue and saturation\n",
    "                # either change the brightness of the whole image (sometimes\n",
    "                # per channel) or change the brightness of subareas\n",
    "              \n",
    "                iaa.Sometimes(0.55, iaa.Multiply((0.5, 1.5), per_channel=0.5)),\n",
    "                    \n",
    "                iaa.Sometimes(0.5, iaa.LinearContrast((0.5, 2.0), per_channel=0.5))\n",
    "            ],\n",
    "            random_order=True\n",
    "        )\n",
    "    ],\n",
    "    random_order=True\n",
    ") "
   ]
  },
  {
   "cell_type": "code",
   "execution_count": 3,
   "id": "e52fdd2c",
   "metadata": {
    "scrolled": true
   },
   "outputs": [],
   "source": [
    "preproc = transforms.Compose([\n",
    "#     transforms.Resize((368,368)),\n",
    "    transforms.ToTensor(),\n",
    "#     normalize,\n",
    "])\n",
    "\n",
    "def Gaussian(sigma):\n",
    "    if sigma == 7:\n",
    "        return np.array([1.23409802e-04, 1.50343915e-03, 6.73794700e-03, 1.11089963e-02,\n",
    "                     6.73794700e-03, 1.50343915e-03, 1.23409802e-04, 1.50343915e-03,\n",
    "                     1.83156393e-02, 8.20849985e-02, 1.35335281e-01, 8.20849985e-02,\n",
    "                     1.83156393e-02, 1.50343915e-03, 6.73794700e-03, 8.20849985e-02,\n",
    "                     3.67879450e-01, 6.06530666e-01, 3.67879450e-01, 8.20849985e-02,\n",
    "                     6.73794700e-03, 1.11089963e-02, 1.35335281e-01, 6.06530666e-01,\n",
    "                     1.00000000e+00, 6.06530666e-01, 1.35335281e-01, 1.11089963e-02,\n",
    "                     6.73794700e-03, 8.20849985e-02, 3.67879450e-01, 6.06530666e-01,\n",
    "                     3.67879450e-01, 8.20849985e-02, 6.73794700e-03, 1.50343915e-03,\n",
    "                     1.83156393e-02, 8.20849985e-02, 1.35335281e-01, 8.20849985e-02,\n",
    "                     1.83156393e-02, 1.50343915e-03, 1.23409802e-04, 1.50343915e-03,\n",
    "                     6.73794700e-03, 1.11089963e-02, 6.73794700e-03, 1.50343915e-03,\n",
    "                     1.23409802e-04]).reshape(7,7)\n",
    "    elif sigma == n:\n",
    "        return g_inp\n",
    "    else:\n",
    "        raise Exception('Gaussian {} Not Implement'.format(sigma))\n",
    "\n",
    "def DrawGaussian(img, pt, sigma):\n",
    "    tmpSize = int(np.math.ceil(3 * sigma))\n",
    "    ul = [int(np.math.floor(pt[0] - tmpSize)), int(np.math.floor(pt[1] - tmpSize))]\n",
    "    br = [int(np.math.floor(pt[0] + tmpSize)), int(np.math.floor(pt[1] + tmpSize))]\n",
    "\n",
    "    if ul[0] > img.shape[1] or ul[1] > img.shape[0] or br[0] < 1 or br[1] < 1:\n",
    "        return img\n",
    "\n",
    "    size = 2 * tmpSize + 1\n",
    "    g = Gaussian(size)\n",
    "    g_x = [max(0, -ul[0]), min(br[0], img.shape[1]) - max(0, ul[0]) + max(0, -ul[0])]\n",
    "    g_y = [max(0, -ul[1]), min(br[1], img.shape[0]) - max(0, ul[1]) + max(0, -ul[1])]\n",
    "\n",
    "    img_x = [max(0, ul[0]), min(br[0], img.shape[1])]\n",
    "    img_y = [max(0, ul[1]), min(br[1], img.shape[0])]\n",
    "\n",
    "    img[img_y[0]:img_y[1], img_x[0]:img_x[1]] = g[g_y[0]:g_y[1], g_x[0]:g_x[1]]\n",
    "    return img\n",
    "\n",
    "def get_heatmap(points, shape, new_shape=(51,51), joints=6):\n",
    "    height, width = shape[0], shape[1]\n",
    "    points[:, 0] = (points[:, 0] / width) * new_shape[1]\n",
    "    points[:, 1] = (points[:, 1] / height) * new_shape[0]\n",
    "    points = points.astype(int)\n",
    "    heatmaps = np.zeros((joints, new_shape[0], new_shape[1]))\n",
    "    for i in range(joints):\n",
    "        heatmaps[i] = DrawGaussian(heatmaps[i], (points[i][0], points[i][1]), 1)\n",
    "    return heatmaps\n",
    "    \n",
    "def transform_rot(x): \n",
    "    x = x.decode(\"utf-8\").split(\",\")  \n",
    "    x = np.array(x).astype(float).reshape(-1,6)[:, :3]\n",
    "    x = np.concatenate((x[14:17], x[22:25]))\n",
    "    return x\n",
    "    \n",
    "def transform3D(x):\n",
    "    x = x.decode(\"utf-8\").split(\",\")\n",
    "    x = np.array(x).astype(float).reshape(-1,3) \n",
    "    x = np.concatenate((x[14:17], x[22:25]))\n",
    "\n",
    "    return x.reshape(-1) / 300\n",
    "\n",
    "def transform2D(x):\n",
    "    x = x.decode(\"utf-8\").split(\",\")\n",
    "    x = np.array(x).astype(float).reshape(-1,2)\n",
    "    x = np.concatenate((x[14:17], x[22:25]))\n",
    "    return x\n",
    " \n",
    "normalize = transforms.Normalize(\n",
    "    mean=[0.485, 0.456, 0.406],\n",
    "    std=[0.229, 0.224, 0.225])\n",
    "\n",
    "iaa_valid = iaa.Resize((368, 368))\n",
    "\n",
    "def pil_decode(data, augment=False):\n",
    "    img = np.array(Image.open(io.BytesIO(data)))\n",
    "    if augment:\n",
    "        img = seq(images=[img])[0] \n",
    "    else:\n",
    "        img = iaa_valid(images=[img])[0]\n",
    "    img = Image.fromarray(img)\n",
    "    \n",
    "        \n",
    "\n",
    "    return img\n",
    "    \n",
    "\n",
    "def decode_train(sample):\n",
    "    return decode_sample(sample, augment=True)\n",
    "\n",
    "def decode_valid(sample):\n",
    "    return decode_sample(sample, augment=False)\n",
    "\n",
    "def decode_sample(sample, augment=False): \n",
    "    pose_img = pil_decode(sample[\"pose_image.png\"], augment)\n",
    "    pose_3dp = transform3D(sample[\"pose_3dp.csv\"])\n",
    "    rot_3dp = transform_rot(sample[\"pose_3da_rot.csv\"])\n",
    "    width, height = pose_img.size\n",
    "    points = transform2D(sample[\"pose_2dp.csv\"])\n",
    "    pose_img = preproc(pose_img)\n",
    "    heatmaps = get_heatmap(points, (height, width))\n",
    "    \n",
    "    return dict(\n",
    "        image=pose_img,\n",
    "        pose=pose_3dp,\n",
    "        heatmaps=heatmaps,\n",
    "        rotation=rot_3dp\n",
    "    )\n",
    "\n"
   ]
  },
  {
   "cell_type": "code",
   "execution_count": 4,
   "id": "af81f28d",
   "metadata": {
    "scrolled": true
   },
   "outputs": [
    {
     "name": "stdout",
     "output_type": "stream",
     "text": [
      "48\n",
      "26\n"
     ]
    }
   ],
   "source": [
    "train_url = glob.glob(\"/egopose-data/web-datasets/xr*train*tar\")\n",
    "\n",
    "test_url = glob.glob(\"/egopose-data/web-datasets/xr*test*tar\")\n",
    "print(len(train_url))\n",
    "print(len(test_url))\n",
    "ds = wds.WebDataset(train_url).shuffle(1000, initial=1).map(decode_train, handler=ignore_and_continue).to_tuple(\"image\", \"pose\", \"heatmaps\", \"rotation\", handler=ignore_and_continue)\n",
    "train_loader = torch.utils.data.DataLoader(ds.batched(1), num_workers=1, batch_size=None)\n",
    "\n",
    "ds_valid = wds.WebDataset(test_url).shuffle(1000, initial=10).map(decode_valid, handler=ignore_and_continue).to_tuple(\"image\", \"pose\", \"heatmaps\", \"rotation\", handler=ignore_and_continue)\n",
    "valid_loader = torch.utils.data.DataLoader(ds_valid, num_workers=4, batch_size=8)\n",
    " \n",
    "model = SelfPose()\n",
    "dataloaders = {\"train\": train_loader, \"val\": valid_loader}\n",
    "pose_criterion = nn.MSELoss()\n",
    "hmp_loss = nn.MSELoss()\n",
    "hmp_loss2 = nn.MSELoss()\n",
    "l1_loss = nn.L1Loss()\n",
    "cos_sim = nn.CosineSimilarity(dim=2, eps=1e-6)\n",
    "optimizer_ft = optim.Adam(model.parameters(), lr=0.00006) \n",
    " "
   ]
  },
  {
   "cell_type": "code",
   "execution_count": 5,
   "id": "446db77d",
   "metadata": {
    "scrolled": false
   },
   "outputs": [
    {
     "data": {
      "image/png": "[encoded data removed]",
      "text/plain": [
       "<Figure size 432x288 with 1 Axes>"
      ]
     },
     "metadata": {
      "needs_background": "light"
     },
     "output_type": "display_data"
    }
   ],
   "source": [
    "i = 0\n",
    "for sample in train_loader:\n",
    "    img = sample[0]\n",
    "    \n",
    "    img = np.transpose(img.numpy()[0], (1,2,0))\n",
    "    plt.imshow(img)\n",
    "    plt.show()\n",
    "    break\n",
    "    if i >100:\n",
    "        break\n",
    "    i+=1"
   ]
  },
  {
   "cell_type": "code",
   "execution_count": 11,
   "id": "18c19303",
   "metadata": {
    "scrolled": true
   },
   "outputs": [
    {
     "name": "stdout",
     "output_type": "stream",
     "text": [
      "loaded cuda:0\n"
     ]
    }
   ],
   "source": [
    "device = torch.device(\"cuda:0\" if torch.cuda.is_available() else \"cpu\")\n",
    "model.to(device)\n",
    "print(\"loaded\", device)\n"
   ]
  },
  {
   "cell_type": "code",
   "execution_count": 12,
   "id": "1e5ace1a",
   "metadata": {
    "scrolled": true
   },
   "outputs": [],
   "source": [
    "def train_model(model, pose_loss, heatmap_loss, heatmap_loss2, l1_loss, cos_loss, optimizer, num_epochs=25):\n",
    "    since = time.time()\n",
    "\n",
    "    best_model_wts = copy.deepcopy(model.state_dict())\n",
    "    best_loss = float('inf')\n",
    "\n",
    "    for epoch in range(num_epochs):\n",
    "        print('Epoch {}/{}'.format(epoch, num_epochs - 1))\n",
    "        print('-' * 10)\n",
    "\n",
    "        # Each epoch has a training and validation phase\n",
    "        for phase in ['train', 'val']:\n",
    "            if phase == 'train':\n",
    "                model.train()  # Set model to training mode\n",
    "            else:\n",
    "                model.eval()   # Set model to evaluate mode\n",
    "\n",
    "            running_loss = 0.0\n",
    "#             running_̉corrects = 0\n",
    "\n",
    "            # Iterate over data.\n",
    "            sizes = {\"train\":0, \"val\":0}\n",
    "            i = 0\n",
    "            for image, gt_pose, gt_hm, rot_gt in dataloaders[phase]:\n",
    "            \n",
    "                image = image.to(device).float()\n",
    "                gt_pose = gt_pose.to(device).float()\n",
    "                gt_hm = gt_hm.to(device).float()\n",
    "                rot_gt = rot_gt.to(device).float()\n",
    "                # zero the parameter gradients\n",
    "                optimizer.zero_grad()\n",
    "\n",
    "                # forward\n",
    "                # track history if only in train\n",
    "                with torch.set_grad_enabled(phase == 'train'):\n",
    "                    pred_pose, hm, pred_hm, rot_pred = model(image)\n",
    "                    pred_pose = pred_pose.view(-1,6,3)\n",
    "                    rot_pred = rot_pred.view(-1,6,3)\n",
    "                    gt_pose = gt_pose.view(-1,6,3)\n",
    "#                     _, preds = torch.max(outputs, 1)\n",
    "                    p_loss = pose_loss(pred_pose, gt_pose)\n",
    "#                     print(rot_gt.shape, rot_pred.shape)\n",
    "                    rot_loss = pose_loss(rot_pred, rot_gt)\n",
    "                    cosine_loss = torch.mean(1 - cos_loss(pred_pose, gt_pose))\n",
    "                    l1_loss_pose = l1_loss(pred_pose, gt_pose)\n",
    "                    hmp_loss = heatmap_loss(hm, gt_hm)\n",
    "                    hmp_emb_loss = heatmap_loss2(pred_hm, hm)\n",
    "\n",
    "                    loss = p_loss + (hmp_loss/50) + (hmp_emb_loss/50) + rot_loss/10 #+ (l1_loss_pose) + (0.1*cosine_loss)\n",
    "                    # backward + optimize only if in training phase\n",
    "                    if phase == 'train':\n",
    "            \n",
    "                        loss.backward()\n",
    "                        optimizer.step()\n",
    "\n",
    "                # statistics\n",
    "                running_loss += loss.item() * image.size(0)\n",
    "                sizes[phase] += image.size(0)\n",
    "                if i % 10 == 0:\n",
    "                    print(f\"Phase {phase}: loss = {loss.item()} Step = {i}\")\n",
    "                    print(\"l2 pose\",p_loss.item(), \"hmp loss\",hmp_loss.item(), \"hmp2\",hmp_emb_loss.item())# \"l1 loss\",l1_loss_pose.item(), \"cos loss\",cosine_loss.item())\n",
    "                i += 1\n",
    "                if i % 11000 == 0:\n",
    "                    torch.save(model.state_dict(), f\"./{i}th iteration.pth\")\n",
    "#                 running_corrects += torch.sum(preds == labels.data)\n",
    "#             if phase == 'train':\n",
    "#                 scheduler.step()\n",
    "\n",
    "            epoch_loss = running_loss / sizes[phase]\n",
    "#             epoch_acc = running_corrects.double() / dataset_sizes[phase]\n",
    "            \n",
    "            print('{} Loss: {:.4f}'.format(\n",
    "                phase, epoch_loss))\n",
    "\n",
    "            # deep copy the model\n",
    "            if epoch_loss < best_loss:\n",
    "                best_loss = epoch_loss\n",
    "                best_model_wts = copy.deepcopy(model.state_dict())\n",
    "\n",
    "        print()\n",
    "\n",
    "    time_elapsed = time.time() - since\n",
    "    print('Training complete in {:.0f}m {:.0f}s'.format(\n",
    "        time_elapsed // 60, time_elapsed % 60))\n",
    "    print('Best val Acc: {:4f}'.format(best_loss))\n",
    "\n",
    "    # load best model weights\n",
    "    model.load_state_dict(best_model_wts)\n",
    "    return model\n"
   ]
  },
  {
   "cell_type": "code",
   "execution_count": 13,
   "id": "aab42de5",
   "metadata": {
    "scrolled": true
   },
   "outputs": [
    {
     "name": "stdout",
     "output_type": "stream",
     "text": [
      "Epoch 0/0\n",
      "----------\n",
      "Phase train: loss = 11863.017578125 Step = 0\n",
      "l2 pose 6.943077551113674e-06 hmp loss 0.00040321925189346075 hmp2 2.5605160658415116e-08\n",
      "Phase train: loss = 10841.787109375 Step = 10\n",
      "l2 pose 0.00038760193274356425 hmp loss 0.0004033900622744113 hmp2 9.81426495627602e-08\n",
      "Phase train: loss = 11945.4443359375 Step = 20\n",
      "l2 pose 0.00043220166116952896 hmp loss 0.0004032376455143094 hmp2 8.319879185592072e-08\n",
      "Phase train: loss = 16180.9443359375 Step = 30\n",
      "l2 pose 0.00019334994431119412 hmp loss 0.0002024280693149194 hmp2 1.7125718443367077e-07\n",
      "Phase train: loss = 8624.9658203125 Step = 40\n",
      "l2 pose 0.00030893663642928004 hmp loss 0.0004041347128804773 hmp2 1.7062016866020713e-07\n",
      "Phase train: loss = 13512.259765625 Step = 50\n",
      "l2 pose 0.0008462941623292863 hmp loss 0.00020292244153097272 hmp2 1.154161495264816e-07\n",
      "Phase train: loss = 15302.625 Step = 60\n",
      "l2 pose 0.0016328495694324374 hmp loss 0.00020221015438437462 hmp2 2.8742090307787294e-07\n",
      "Phase train: loss = 15289.2421875 Step = 70\n",
      "l2 pose 0.0034865380730479956 hmp loss 0.00020345787925180048 hmp2 9.942141332430765e-08\n",
      "Phase train: loss = 14276.2783203125 Step = 80\n",
      "l2 pose 0.007732620928436518 hmp loss 0.0002013252378674224 hmp2 1.0168626829454297e-07\n",
      "Phase train: loss = 12145.458984375 Step = 90\n",
      "l2 pose 0.0061689577996730804 hmp loss 3.3012195217452245e-06 hmp2 1.2635973689612e-07\n",
      "Phase train: loss = 6813.57958984375 Step = 100\n",
      "l2 pose 0.006714059039950371 hmp loss 4.145374987274408e-06 hmp2 1.7960384468551638e-07\n",
      "Phase train: loss = 7538.7802734375 Step = 110\n",
      "l2 pose 0.012881113216280937 hmp loss 2.414500841041445e-06 hmp2 2.0593532212842547e-07\n",
      "Phase train: loss = 6858.9287109375 Step = 120\n",
      "l2 pose 0.008832073770463467 hmp loss 3.408398924875655e-06 hmp2 1.1783485831529106e-07\n",
      "Phase train: loss = 10113.21875 Step = 130\n",
      "l2 pose 0.00551548833027482 hmp loss 0.00020180897263344377 hmp2 1.560797784350143e-07\n",
      "Phase train: loss = 4278.140625 Step = 140\n",
      "l2 pose 0.00351272732950747 hmp loss 2.271070343340398e-06 hmp2 1.0651115189830307e-07\n",
      "Phase train: loss = 3946.449951171875 Step = 150\n",
      "l2 pose 0.0030211699195206165 hmp loss 0.00021812193153891712 hmp2 7.200012078101281e-06\n",
      "Phase train: loss = 4814.65625 Step = 160\n",
      "l2 pose 0.0026387942489236593 hmp loss 0.00022311959764920175 hmp2 7.879761142248753e-06\n",
      "Phase train: loss = 2659.578857421875 Step = 170\n",
      "l2 pose 0.0028487686067819595 hmp loss 1.797844197426457e-05 hmp2 1.5027159179226146e-06\n",
      "Phase train: loss = 4624.00830078125 Step = 180\n",
      "l2 pose 0.006119930185377598 hmp loss 1.4292239939095452e-05 hmp2 4.4526652231979824e-07\n",
      "Phase train: loss = 5154.4599609375 Step = 190\n",
      "l2 pose 0.003262692131102085 hmp loss 0.0002086894091917202 hmp2 4.995009135200235e-07\n",
      "Phase train: loss = 2367.00537109375 Step = 200\n",
      "l2 pose 0.01056245993822813 hmp loss 7.412606646539643e-05 hmp2 3.972826107201399e-06\n",
      "Phase train: loss = 4627.837890625 Step = 210\n",
      "l2 pose 0.004844729322940111 hmp loss 4.9321075493935496e-05 hmp2 9.01879229786573e-06\n",
      "Phase train: loss = 10723.3154296875 Step = 220\n",
      "l2 pose 0.0061736879870295525 hmp loss 0.00047086182166822255 hmp2 1.515940766694257e-05\n",
      "Phase train: loss = 3594.9814453125 Step = 230\n",
      "l2 pose 0.005251447204500437 hmp loss 0.000440936564700678 hmp2 9.445189448342717e-07\n",
      "Phase train: loss = 2018.0457763671875 Step = 240\n",
      "l2 pose 0.027707234025001526 hmp loss 0.00022852631809655577 hmp2 1.073043790711381e-06\n",
      "Phase train: loss = 1968.6805419921875 Step = 250\n",
      "l2 pose 0.013933777809143066 hmp loss 3.265920531703159e-05 hmp2 6.290709961831453e-07\n",
      "Phase train: loss = 3473.493896484375 Step = 260\n",
      "l2 pose 0.005703693721443415 hmp loss 7.673766231164336e-05 hmp2 5.548843091673916e-07\n",
      "Phase train: loss = 3995.55322265625 Step = 270\n",
      "l2 pose 0.0068696183152496815 hmp loss 7.348263170570135e-05 hmp2 5.662390663019323e-07\n"
     ]
    },
    {
     "ename": "KeyboardInterrupt",
     "evalue": "",
     "output_type": "error",
     "traceback": [
      "\u001b[0;31m---------------------------------------------------------------------------\u001b[0m",
      "\u001b[0;31mKeyboardInterrupt\u001b[0m                         Traceback (most recent call last)",
      "\u001b[0;32m/tmp/ipykernel_15417/4051322174.py\u001b[0m in \u001b[0;36m<module>\u001b[0;34m\u001b[0m\n\u001b[0;32m----> 1\u001b[0;31m \u001b[0mbest\u001b[0m \u001b[0;34m=\u001b[0m \u001b[0mtrain_model\u001b[0m\u001b[0;34m(\u001b[0m\u001b[0mmodel\u001b[0m\u001b[0;34m,\u001b[0m \u001b[0mpose_criterion\u001b[0m\u001b[0;34m,\u001b[0m \u001b[0mhmp_loss\u001b[0m\u001b[0;34m,\u001b[0m \u001b[0mhmp_loss2\u001b[0m\u001b[0;34m,\u001b[0m \u001b[0ml1_loss\u001b[0m\u001b[0;34m,\u001b[0m \u001b[0mcos_sim\u001b[0m\u001b[0;34m,\u001b[0m \u001b[0moptimizer_ft\u001b[0m\u001b[0;34m,\u001b[0m \u001b[0;36m1\u001b[0m\u001b[0;34m)\u001b[0m\u001b[0;34m\u001b[0m\u001b[0;34m\u001b[0m\u001b[0m\n\u001b[0m",
      "\u001b[0;32m/tmp/ipykernel_15417/3342260815.py\u001b[0m in \u001b[0;36mtrain_model\u001b[0;34m(model, pose_loss, heatmap_loss, heatmap_loss2, l1_loss, cos_loss, optimizer, num_epochs)\u001b[0m\n\u001b[1;32m     52\u001b[0m \u001b[0;34m\u001b[0m\u001b[0m\n\u001b[1;32m     53\u001b[0m                         \u001b[0mloss\u001b[0m\u001b[0;34m.\u001b[0m\u001b[0mbackward\u001b[0m\u001b[0;34m(\u001b[0m\u001b[0;34m)\u001b[0m\u001b[0;34m\u001b[0m\u001b[0;34m\u001b[0m\u001b[0m\n\u001b[0;32m---> 54\u001b[0;31m                         \u001b[0moptimizer\u001b[0m\u001b[0;34m.\u001b[0m\u001b[0mstep\u001b[0m\u001b[0;34m(\u001b[0m\u001b[0;34m)\u001b[0m\u001b[0;34m\u001b[0m\u001b[0;34m\u001b[0m\u001b[0m\n\u001b[0m\u001b[1;32m     55\u001b[0m \u001b[0;34m\u001b[0m\u001b[0m\n\u001b[1;32m     56\u001b[0m                 \u001b[0;31m# statistics\u001b[0m\u001b[0;34m\u001b[0m\u001b[0;34m\u001b[0m\u001b[0;34m\u001b[0m\u001b[0m\n",
      "\u001b[0;32m~/miniconda3/lib/python3.9/site-packages/torch/optim/optimizer.py\u001b[0m in \u001b[0;36mwrapper\u001b[0;34m(*args, **kwargs)\u001b[0m\n\u001b[1;32m     86\u001b[0m                 \u001b[0mprofile_name\u001b[0m \u001b[0;34m=\u001b[0m \u001b[0;34m\"Optimizer.step#{}.step\"\u001b[0m\u001b[0;34m.\u001b[0m\u001b[0mformat\u001b[0m\u001b[0;34m(\u001b[0m\u001b[0mobj\u001b[0m\u001b[0;34m.\u001b[0m\u001b[0m__class__\u001b[0m\u001b[0;34m.\u001b[0m\u001b[0m__name__\u001b[0m\u001b[0;34m)\u001b[0m\u001b[0;34m\u001b[0m\u001b[0;34m\u001b[0m\u001b[0m\n\u001b[1;32m     87\u001b[0m                 \u001b[0;32mwith\u001b[0m \u001b[0mtorch\u001b[0m\u001b[0;34m.\u001b[0m\u001b[0mautograd\u001b[0m\u001b[0;34m.\u001b[0m\u001b[0mprofiler\u001b[0m\u001b[0;34m.\u001b[0m\u001b[0mrecord_function\u001b[0m\u001b[0;34m(\u001b[0m\u001b[0mprofile_name\u001b[0m\u001b[0;34m)\u001b[0m\u001b[0;34m:\u001b[0m\u001b[0;34m\u001b[0m\u001b[0;34m\u001b[0m\u001b[0m\n\u001b[0;32m---> 88\u001b[0;31m                     \u001b[0;32mreturn\u001b[0m \u001b[0mfunc\u001b[0m\u001b[0;34m(\u001b[0m\u001b[0;34m*\u001b[0m\u001b[0margs\u001b[0m\u001b[0;34m,\u001b[0m \u001b[0;34m**\u001b[0m\u001b[0mkwargs\u001b[0m\u001b[0;34m)\u001b[0m\u001b[0;34m\u001b[0m\u001b[0;34m\u001b[0m\u001b[0m\n\u001b[0m\u001b[1;32m     89\u001b[0m             \u001b[0;32mreturn\u001b[0m \u001b[0mwrapper\u001b[0m\u001b[0;34m\u001b[0m\u001b[0;34m\u001b[0m\u001b[0m\n\u001b[1;32m     90\u001b[0m \u001b[0;34m\u001b[0m\u001b[0m\n",
      "\u001b[0;32m~/miniconda3/lib/python3.9/site-packages/torch/autograd/grad_mode.py\u001b[0m in \u001b[0;36mdecorate_context\u001b[0;34m(*args, **kwargs)\u001b[0m\n\u001b[1;32m     26\u001b[0m         \u001b[0;32mdef\u001b[0m \u001b[0mdecorate_context\u001b[0m\u001b[0;34m(\u001b[0m\u001b[0;34m*\u001b[0m\u001b[0margs\u001b[0m\u001b[0;34m,\u001b[0m \u001b[0;34m**\u001b[0m\u001b[0mkwargs\u001b[0m\u001b[0;34m)\u001b[0m\u001b[0;34m:\u001b[0m\u001b[0;34m\u001b[0m\u001b[0;34m\u001b[0m\u001b[0m\n\u001b[1;32m     27\u001b[0m             \u001b[0;32mwith\u001b[0m \u001b[0mself\u001b[0m\u001b[0;34m.\u001b[0m\u001b[0m__class__\u001b[0m\u001b[0;34m(\u001b[0m\u001b[0;34m)\u001b[0m\u001b[0;34m:\u001b[0m\u001b[0;34m\u001b[0m\u001b[0;34m\u001b[0m\u001b[0m\n\u001b[0;32m---> 28\u001b[0;31m                 \u001b[0;32mreturn\u001b[0m \u001b[0mfunc\u001b[0m\u001b[0;34m(\u001b[0m\u001b[0;34m*\u001b[0m\u001b[0margs\u001b[0m\u001b[0;34m,\u001b[0m \u001b[0;34m**\u001b[0m\u001b[0mkwargs\u001b[0m\u001b[0;34m)\u001b[0m\u001b[0;34m\u001b[0m\u001b[0;34m\u001b[0m\u001b[0m\n\u001b[0m\u001b[1;32m     29\u001b[0m         \u001b[0;32mreturn\u001b[0m \u001b[0mcast\u001b[0m\u001b[0;34m(\u001b[0m\u001b[0mF\u001b[0m\u001b[0;34m,\u001b[0m \u001b[0mdecorate_context\u001b[0m\u001b[0;34m)\u001b[0m\u001b[0;34m\u001b[0m\u001b[0;34m\u001b[0m\u001b[0m\n\u001b[1;32m     30\u001b[0m \u001b[0;34m\u001b[0m\u001b[0m\n",
      "\u001b[0;32m~/miniconda3/lib/python3.9/site-packages/torch/optim/adam.py\u001b[0m in \u001b[0;36mstep\u001b[0;34m(self, closure)\u001b[0m\n\u001b[1;32m    131\u001b[0m                     \u001b[0mstate_steps\u001b[0m\u001b[0;34m.\u001b[0m\u001b[0mappend\u001b[0m\u001b[0;34m(\u001b[0m\u001b[0mstate\u001b[0m\u001b[0;34m[\u001b[0m\u001b[0;34m'step'\u001b[0m\u001b[0;34m]\u001b[0m\u001b[0;34m)\u001b[0m\u001b[0;34m\u001b[0m\u001b[0;34m\u001b[0m\u001b[0m\n\u001b[1;32m    132\u001b[0m \u001b[0;34m\u001b[0m\u001b[0m\n\u001b[0;32m--> 133\u001b[0;31m             F.adam(params_with_grad,\n\u001b[0m\u001b[1;32m    134\u001b[0m                    \u001b[0mgrads\u001b[0m\u001b[0;34m,\u001b[0m\u001b[0;34m\u001b[0m\u001b[0;34m\u001b[0m\u001b[0m\n\u001b[1;32m    135\u001b[0m                    \u001b[0mexp_avgs\u001b[0m\u001b[0;34m,\u001b[0m\u001b[0;34m\u001b[0m\u001b[0;34m\u001b[0m\u001b[0m\n",
      "\u001b[0;32m~/miniconda3/lib/python3.9/site-packages/torch/optim/_functional.py\u001b[0m in \u001b[0;36madam\u001b[0;34m(params, grads, exp_avgs, exp_avg_sqs, max_exp_avg_sqs, state_steps, amsgrad, beta1, beta2, lr, weight_decay, eps)\u001b[0m\n\u001b[1;32m     85\u001b[0m         \u001b[0;31m# Decay the first and second moment running average coefficient\u001b[0m\u001b[0;34m\u001b[0m\u001b[0;34m\u001b[0m\u001b[0;34m\u001b[0m\u001b[0m\n\u001b[1;32m     86\u001b[0m         \u001b[0mexp_avg\u001b[0m\u001b[0;34m.\u001b[0m\u001b[0mmul_\u001b[0m\u001b[0;34m(\u001b[0m\u001b[0mbeta1\u001b[0m\u001b[0;34m)\u001b[0m\u001b[0;34m.\u001b[0m\u001b[0madd_\u001b[0m\u001b[0;34m(\u001b[0m\u001b[0mgrad\u001b[0m\u001b[0;34m,\u001b[0m \u001b[0malpha\u001b[0m\u001b[0;34m=\u001b[0m\u001b[0;36m1\u001b[0m \u001b[0;34m-\u001b[0m \u001b[0mbeta1\u001b[0m\u001b[0;34m)\u001b[0m\u001b[0;34m\u001b[0m\u001b[0;34m\u001b[0m\u001b[0m\n\u001b[0;32m---> 87\u001b[0;31m         \u001b[0mexp_avg_sq\u001b[0m\u001b[0;34m.\u001b[0m\u001b[0mmul_\u001b[0m\u001b[0;34m(\u001b[0m\u001b[0mbeta2\u001b[0m\u001b[0;34m)\u001b[0m\u001b[0;34m.\u001b[0m\u001b[0maddcmul_\u001b[0m\u001b[0;34m(\u001b[0m\u001b[0mgrad\u001b[0m\u001b[0;34m,\u001b[0m \u001b[0mgrad\u001b[0m\u001b[0;34m.\u001b[0m\u001b[0mconj\u001b[0m\u001b[0;34m(\u001b[0m\u001b[0;34m)\u001b[0m\u001b[0;34m,\u001b[0m \u001b[0mvalue\u001b[0m\u001b[0;34m=\u001b[0m\u001b[0;36m1\u001b[0m \u001b[0;34m-\u001b[0m \u001b[0mbeta2\u001b[0m\u001b[0;34m)\u001b[0m\u001b[0;34m\u001b[0m\u001b[0;34m\u001b[0m\u001b[0m\n\u001b[0m\u001b[1;32m     88\u001b[0m         \u001b[0;32mif\u001b[0m \u001b[0mamsgrad\u001b[0m\u001b[0;34m:\u001b[0m\u001b[0;34m\u001b[0m\u001b[0;34m\u001b[0m\u001b[0m\n\u001b[1;32m     89\u001b[0m             \u001b[0;31m# Maintains the maximum of all 2nd moment running avg. till now\u001b[0m\u001b[0;34m\u001b[0m\u001b[0;34m\u001b[0m\u001b[0;34m\u001b[0m\u001b[0m\n",
      "\u001b[0;31mKeyboardInterrupt\u001b[0m: "
     ]
    }
   ],
   "source": [
    "best = train_model(model, pose_criterion, hmp_loss, hmp_loss2, l1_loss, cos_sim, optimizer_ft, 1)"
   ]
  },
  {
   "cell_type": "code",
   "execution_count": 7,
   "id": "cec10a4b",
   "metadata": {
    "scrolled": true
   },
   "outputs": [
    {
     "data": {
      "text/plain": [
       "_IncompatibleKeys(missing_keys=['regressor.rotation_fc1.weight', 'regressor.rotation_fc1.bias', 'regressor.rotation_fc2.weight', 'regressor.rotation_fc2.bias', 'regressor.rotation_fc3.weight', 'regressor.rotation_fc3.bias'], unexpected_keys=[])"
      ]
     },
     "execution_count": 7,
     "metadata": {},
     "output_type": "execute_result"
    }
   ],
   "source": [
    "model.load_state_dict(torch.load(\"./3_epoch.pth\" ),strict=False)"
   ]
  },
  {
   "cell_type": "code",
   "execution_count": null,
   "id": "21a30cf4",
   "metadata": {
    "scrolled": true
   },
   "outputs": [],
   "source": [
    "def calculate_error(pred, gt):\n",
    "#     error = np.sqrt(np.sum((pred - gt)**2, axis=2))\n",
    "    return torch.mean(torch.sqrt(torch.sum((pred - gt)**2, axis=2))).cpu().item()"
   ]
  },
  {
   "cell_type": "code",
   "execution_count": null,
   "id": "c44ed772",
   "metadata": {
    "scrolled": true
   },
   "outputs": [],
   "source": [
    "def inference(model):\n",
    "    results = []\n",
    "    model.eval()   # Set model to evaluate mode\n",
    "    phase=\"val\"\n",
    "    errors = []\n",
    "    i=0\n",
    "    print(\"infer\")\n",
    "    for image, gt_pose, hmp in dataloaders[\"val\"]: \n",
    "        image = image.to(device).float()\n",
    "        gt_pose =  gt_pose.to(device).float()\n",
    "        hmp =  hmp.to(device).float()\n",
    "        with torch.set_grad_enabled(phase == 'train'):\n",
    "\n",
    "            pose, hmp, hmp_pred = model(image)\n",
    "#             outputs = outputs.view(6,3).cpu().numpy()\n",
    "#             inputs = inputs.cpu().numpy()[0]\n",
    "#             inputs = np.transpose(inputs, (1,2,0))\n",
    "#             labels = labels.reshape(17,3).cpu().numpy()\n",
    "#             print(outputs)\n",
    "#             labels1 = labels.copy()\n",
    "#             labels1[4:10] = outputs* 300\n",
    "#             plot((labels, labels1), inputs)\n",
    "\n",
    "#             plot(labels, inputs)\n",
    "            pose = pose.reshape(-1,6,3)\n",
    "            gt_pose = gt_pose.reshape(-1,6,3)\n",
    "            err = calculate_error(pose*300, gt_pose*300)\n",
    "            errors.append(err)\n",
    "#             print(errors)\n",
    "            if i % 10 == 0:\n",
    "                print(i, err, np.mean(errors))\n",
    "            i+=1\n",
    "\n",
    "#             0/0\n",
    "#             inputs = np.transpose(inputs.detach().cpu().numpy(), (0,2,3,1))\n",
    "#             outputs = (outputs * 224).reshape(-1, 6,2)\n",
    "#             for im, joints in zip(inputs, outputs):\n",
    "#                 plt.figure(figsize=(10,10))\n",
    "#                 im = (im * 255)\n",
    "#                 im[im > 255] = 255\n",
    "#                 im[im < 0] = 0\n",
    "#                 im = im.astype(\"uint8\")\n",
    "#                 im = np.ascontiguousarray(im, dtype=np.uint8)\n",
    "\n",
    "#                 print(im.shape, np.min(im))\n",
    "#                 for joint in joints:  \n",
    "#                     joint = joint.detach().cpu().numpy()\n",
    "#                     cv2.circle(im, (int(joint[0]), int(joint[1])), radius=5, color=(255, 255, 0), thickness=-1)\n",
    "#                 plt.imshow(im)\n",
    "#                 plt.show()\n",
    "\n",
    "    return errors\n",
    "errors = inference(model)\n",
    "    "
   ]
  },
  {
   "cell_type": "code",
   "execution_count": null,
   "id": "b69ed6ce",
   "metadata": {
    "scrolled": true
   },
   "outputs": [],
   "source": [
    "np.mean(errors)"
   ]
  },
  {
   "cell_type": "markdown",
   "id": "2a11d610",
   "metadata": {},
   "source": [
    "## "
   ]
  }
 ],
 "metadata": {
  "kernelspec": {
   "display_name": "Python 3 (ipykernel)",
   "language": "python",
   "name": "python3"
  },
  "language_info": {
   "codemirror_mode": {
    "name": "ipython",
    "version": 3
   },
   "file_extension": ".py",
   "mimetype": "text/x-python",
   "name": "python",
   "nbconvert_exporter": "python",
   "pygments_lexer": "ipython3",
   "version": "3.9.5"
  }
 },
 "nbformat": 4,
 "nbformat_minor": 5
}
