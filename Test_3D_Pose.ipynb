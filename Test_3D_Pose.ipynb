{
 "cells": [
  {
   "cell_type": "code",
   "execution_count": 1,
   "id": "db6e19bc",
   "metadata": {
    "scrolled": true
   },
   "outputs": [],
   "source": [
    "%matplotlib notebook \n",
    "from model.self_pose import SelfPose\n",
    "from dataloader import XRegoDataset \n",
    "from torch.utils.data import DataLoader\n",
    "import time\n",
    "import copy\n",
    "import torch\n",
    "import numpy as np\n",
    "import matplotlib.pyplot as plt\n",
    "import webdataset as wds\n",
    "from torchvision import transforms\n",
    "import glob\n",
    "from webdataset.handlers import ignore_and_continue\n",
    "from mpl_toolkits.mplot3d import axes3d \n",
    "import typing as tp\n",
    "import numpy as np\n",
    "import matplotlib.pyplot as plt\n"
   ]
  },
  {
   "cell_type": "code",
   "execution_count": 2,
   "id": "62e19072",
   "metadata": {},
   "outputs": [],
   "source": [
    "preproc = transforms.Compose([\n",
    "    transforms.Resize((368,368)),\n",
    "    transforms.ToTensor(),\n",
    "])\n",
    "\n",
    "def transform(x):\n",
    "    x = x.decode(\"utf-8\").split(\",\")\n",
    "    x = np.array(x).astype(float).reshape(-1,3)\n",
    "    x = np.concatenate((x[6:7], x[2:5], x[14:17], x[22:25], x[5:6], x[29:32], x[35:38]))\n",
    "\n",
    "    return x.reshape(-1)\n",
    "\n",
    "def image_preproc(x):\n",
    "    return preproc(x)\n",
    "\n"
   ]
  },
  {
   "cell_type": "markdown",
   "id": "0ee26d59",
   "metadata": {},
   "source": [
    "## Plot Kinematic Tree"
   ]
  },
  {
   "cell_type": "code",
   "execution_count": 3,
   "id": "0a8f31a0",
   "metadata": {},
   "outputs": [],
   "source": [
    "\n",
    "\n",
    "def get_chain_dots(\n",
    "        joints: np.ndarray,   # shape == (n_dots, 3)\n",
    "        chain_dots_indexes: tp.List[int], # length == n_dots_in_chain\n",
    "                                          # in continuous order, i.e. \n",
    "                                          # left_hand_ix >>> chest_ix >>> right_hand_ix\n",
    "        ) -> np.ndarray:    # chain of dots\n",
    "    return joints[chain_dots_indexes]\n",
    "\n",
    "\n",
    "def get_chains(\n",
    "        joints,   # shape == (n_dots, 3)\n",
    "        head: tp.List[int], # pelvis >>> chest >>> head\n",
    "        spine: tp.List[int], # left_leg >>> pelvis >>> right_leg\n",
    "        arm1: tp.List[int],\n",
    "        arm2,\n",
    "        neck,\n",
    "        right_leg,\n",
    "        left_leg,\n",
    "        ):\n",
    "    return (get_chain_dots(joints, head),\n",
    "            get_chain_dots(joints, spine),\n",
    "            get_chain_dots(joints, arm1),\n",
    "            get_chain_dots(joints, arm2),\n",
    "            get_chain_dots(joints, neck),\n",
    "            get_chain_dots(joints, right_leg),\n",
    "            get_chain_dots(joints, left_leg),\n",
    "            )\n",
    "\n",
    "\n",
    "def subplot_nodes(dots: np.ndarray, # shape == (n_dots, 3)\n",
    "                  ax):\n",
    "    return ax.scatter3D(*dots.T, c=dots[:, -1])\n",
    "\n",
    "\n",
    "def subplot_bones(chains: tp.Tuple[np.ndarray, ...], ax):\n",
    "    return [ax.plot(*chain.T) for chain in chains]\n",
    "\n",
    "\n",
    "def plot_skeletons(skeletons, chains_ixs):\n",
    "    fig = plt.figure(figsize=(10, 5))\n",
    "    for i, joints in enumerate(skeletons, start=1):\n",
    "        chains = get_chains(joints, *chains_ixs)\n",
    "        ax = fig.add_subplot(1, 2, i, projection='3d')\n",
    "        subplot_nodes(joints, ax)\n",
    "        subplot_bones(chains, ax)\n",
    "    plt.show()\n"
   ]
  },
  {
   "cell_type": "code",
   "execution_count": 4,
   "id": "c01006b3",
   "metadata": {
    "scrolled": false
   },
   "outputs": [],
   "source": [
    "def plot(gt_pose, pred_pose):\n",
    "    # Kinematic Tree for visualization\n",
    "    # each list create bones between joints\n",
    "    chains_ixs = ([0],[1, 2, 3],[3, 4, 5, 6],[3, 7, 8, 9],[3, 10],[1, 11,12,13],[1, 14,15,16]) \n",
    "    plot_skeletons([gt_pose, pred_pose], chains_ixs)\n",
    " \n",
    "       "
   ]
  },
  {
   "cell_type": "code",
   "execution_count": 5,
   "id": "c8f87abd",
   "metadata": {
    "scrolled": false
   },
   "outputs": [
    {
     "name": "stdout",
     "output_type": "stream",
     "text": [
      "\n"
     ]
    }
   ],
   "source": [
    "train_url = glob.glob(\"/egopose-data/web-datasets/xr*train*tar\")\n",
    "test_url = glob.glob(\"/egopose-data/web-datasets/xr*test*tar\")\n",
    "\n",
    "ds = wds.WebDataset(train_url).decode(\"pil\").to_tuple(\"pose_image.png\", \"pose_image_depth.png\", \"pose_3dp.csv\").map_tuple(image_preproc, image_preproc, transform)\n",
    "train_loader = DataLoader(ds.batched(1), num_workers=1, batch_size=None)\n",
    "\n",
    "ds_test = wds.WebDataset(test_url).shuffle(100, initial=100).decode(\"pil\").to_tuple(\"pose_image.png\", \"pose_image_depth.png\",\"pose_3dp.csv\").map_tuple(image_preproc, image_preproc, transform)\n",
    "test_loader = DataLoader(ds_test, num_workers=1, batch_size=32)\n",
    " \n",
    "self_pose = SelfPose()\n",
    "dataloaders = {\"train\": train_loader, \"val\": test_loader}\n",
    "device = torch.device(\"cuda:0\" if torch.cuda.is_available() else \"cpu\") \n",
    "self_pose.load_state_dict(torch.load(\"./ckpts/57mm.pth\"), strict=False)\n",
    "self_pose.to(device)\n",
    "print()"
   ]
  },
  {
   "cell_type": "code",
   "execution_count": 6,
   "id": "0cbe0985",
   "metadata": {},
   "outputs": [
    {
     "name": "stdout",
     "output_type": "stream",
     "text": [
      "Batch Error: 2.79321001730094\n",
      "Batch Error: 2.7990488258406856\n",
      "Batch Error: 2.486866820596846\n",
      "Batch Error: 2.5848542833403756\n",
      "Batch Error: 2.2908104808347853\n",
      "Batch Error: 2.298576611796465\n",
      "Batch Error: 2.3220653443960697\n",
      "Batch Error: 2.3193102987271863\n",
      "Batch Error: 2.449015846843936\n",
      "Batch Error: 2.4864627115773974\n",
      "Batch Error: 3.0980204154968027\n",
      "Mean Error of all batches: 2.5389310597046806\n"
     ]
    }
   ],
   "source": [
    "def calculate_error(pred, gt):\n",
    "    pred = pred.reshape((-1, 6, 3))\n",
    "    gt = gt.reshape((-1, 6, 3))\n",
    "    error = np.sqrt(np.sum((pred-gt) ** 2, axis=2))\n",
    "    return np.mean(error)\n",
    "\n",
    "def inference(model):\n",
    "    results = []\n",
    "    model.eval()   # Set model to evaluate mode\n",
    "    phase=\"val\"\n",
    "    errors = []\n",
    "    for inputs, depth, labels in dataloaders[\"val\"]: \n",
    "        inputs = inputs.to(device).float()\n",
    "        depth =  depth.to(device).float()\n",
    "        with torch.set_grad_enabled(phase == 'train'):\n",
    "            outputs, _, _ = self_pose(inputs)\n",
    "            outputs = outputs.view(-1, 6, 3).cpu().numpy() * 300 # both arms  \n",
    "            labels = labels.reshape(-1, 17, 3).cpu().numpy() # 17 joints for visualizatoin\n",
    "            err = calculate_error(outputs, labels[:, 4:10]) # 4-10 are both arm joints\n",
    "            print(\"Batch Error:\", err)\n",
    "            yield outputs, labels, err\n",
    "            \n",
    "\n",
    "def plot_inference(model, plot_max=5):\n",
    "    for i, (outputs, labels, error) in enumerate(inference(model)):\n",
    "        pred = labels.copy()\n",
    "        pred[:, 4:10] = outputs # replace orignal arm joints with predicted arm joints in kinematic tree\n",
    "        plot(pred[0], labels[0]) #plot first prediction in batch\n",
    "        if i >= plot_max:\n",
    "            break\n",
    "def mean_error(model, total_batches=float(\"inf\")):\n",
    "    errors = []\n",
    "    for i, (_, _, error) in enumerate(inference(model)):\n",
    "        errors.append(error)\n",
    "        if i >= total_batches:\n",
    "            break\n",
    "            \n",
    "    print(f\"Mean Error of all batches: {np.mean(errors)}\")\n",
    "        \n",
    "        \n",
    "# plot_inference(self_pose)\n",
    "mean_error(self_pose,10)"
   ]
  }
 ],
 "metadata": {
  "kernelspec": {
   "display_name": "Python 3",
   "language": "python",
   "name": "python3"
  },
  "language_info": {
   "codemirror_mode": {
    "name": "ipython",
    "version": 3
   },
   "file_extension": ".py",
   "mimetype": "text/x-python",
   "name": "python",
   "nbconvert_exporter": "python",
   "pygments_lexer": "ipython3",
   "version": "3.6.3"
  }
 },
 "nbformat": 4,
 "nbformat_minor": 5
}
